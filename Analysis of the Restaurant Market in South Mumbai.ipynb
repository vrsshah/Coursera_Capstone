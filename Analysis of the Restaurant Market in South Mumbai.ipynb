{
 "cells": [
  {
   "cell_type": "markdown",
   "metadata": {},
   "source": [
    "# Applied Data Science Capstone"
   ]
  },
  {
   "cell_type": "markdown",
   "metadata": {},
   "source": [
    "# _Analysis of the Restaurant Market in South Mumbai_"
   ]
  },
  {
   "cell_type": "markdown",
   "metadata": {},
   "source": [
    "<h2> I.\tDescription of Project </h2>"
   ]
  },
  {
   "cell_type": "markdown",
   "metadata": {},
   "source": [
    "<h3> Introduction </h3>"
   ]
  },
  {
   "cell_type": "markdown",
   "metadata": {},
   "source": [
    "Mumbai is the financial, commercial and entertainment capital of India and also one of the world's top ten hubs of commerce in terms of global financial flow.  Mumbai's business and investment opportunities, as well as its potential to offer a higher standard of living, attracts migrants not from only India but also from other countries, making the city a multicultural. It is a major hub for world trade, jewelry, finance and banking, film industry, arts, information technology, healthcare, media, entertainment, fashion, tourism etc."
   ]
  },
  {
   "cell_type": "markdown",
   "metadata": {},
   "source": [
    "<h3> Restaurant Business: </h3>"
   ]
  },
  {
   "cell_type": "markdown",
   "metadata": {},
   "source": [
    "A restaurant is a place where cooked food is sold to the public. Meals of restaurants are generally served and eaten on the premises, but many restaurants also offer take-out and food delivery services, and some offer only take-out and delivery. Restaurant business is mostly segmented into three different types."
   ]
  },
  {
   "cell_type": "markdown",
   "metadata": {},
   "source": [
    "Type of restaurants"
   ]
  },
  {
   "cell_type": "markdown",
   "metadata": {},
   "source": [
    "* Sit-down Restaurant"
   ]
  },
  {
   "cell_type": "markdown",
   "metadata": {},
   "source": [
    "Most commonly, \"sit-down restaurant\" refers to a casual dining restaurant with table service, rather than where one orders food at a counter. Sit-down restaurants are often further categorized, in North America, as \"family-style\" while in India it is simply recognized as dining restaurant."
   ]
  },
  {
   "cell_type": "markdown",
   "metadata": {},
   "source": [
    "* QSR (Quick Service Restaurant)"
   ]
  },
  {
   "cell_type": "markdown",
   "metadata": {},
   "source": [
    "A fast food restaurant, also known as a quick service restaurant (QSR) within the industry, is a specific type of restaurant that serves fast food cuisine and has minimal table service and one has to order food at a counter. At some, you do not have to even get out of the car to eat. You can pay and get your order from a window. These places are called drive-through(s). A Coffeehouse or café is an establishment that primarily serves coffee, related coffee drinks (latte, cappuccino, espresso) in which there is little or no waiting staff table service. It is commonly acknowledged as a cafeteria inside India."
   ]
  },
  {
   "cell_type": "markdown",
   "metadata": {},
   "source": [
    "* Restaurant  Chain or Franchises"
   ]
  },
  {
   "cell_type": "markdown",
   "metadata": {},
   "source": [
    "Some restaurants are a chain, meaning that there are a lot of restaurants that have the same name and serve the same food. McDonald's, Burger King, and Pizza Hut are examples of chain restaurants that are all over the world. Applebee's and Mainland China are examples of this type of chain restaurant where people sit down to eat it. In short any restaurant chain can be either Type 1 or Type 2 of restaurants."
   ]
  },
  {
   "cell_type": "markdown",
   "metadata": {},
   "source": [
    " "
   ]
  },
  {
   "cell_type": "markdown",
   "metadata": {},
   "source": [
    "<h3> Problem Statement: </h3>"
   ]
  },
  {
   "cell_type": "markdown",
   "metadata": {},
   "source": [
    "“South Mumbai “is the Mumbai City district which is the southernmost precinct of Greater Mumbai. It extends from Colaba in the south to Mahim and Sion in the north. It comprises the city's main business localities, making it the wealthiest urban precinct in India. But at the same time high business opportunities and development makes South Mumbai as the extremely competitive. In this fierce market, the risk volume is even higher for new start-ups or business enterprises or for making an expansion of business especially for small and medium enterprises. \n",
    "\n",
    "Due to this, any new business plan or expansion needs to be analyzed carefully.  The insight derived from analysis will give better understanding of business environment which help in maneuvering the market.\n",
    "\n",
    "In a case of Restaurant industry, it is evident that to start a restaurant in right location is very effective and wise strategic plan, but many people especially who haven’t much knowledge and exploration about demographics of South Mumbai are facing many issues to find the suitable restaurant location. Apart from location, many restaurateurs and investors don’t know what kind of restaurant they need to start. Those question are needed to be solved by analysis of the Restaurant Business in South Mumbai."
   ]
  },
  {
   "cell_type": "markdown",
   "metadata": {},
   "source": [
    "<h2> II. Description of Data </h2>"
   ]
  },
  {
   "cell_type": "markdown",
   "metadata": {},
   "source": [
    "<h3> Require Data: </h3>"
   ]
  },
  {
   "cell_type": "markdown",
   "metadata": {},
   "source": [
    "To choose a right location and serving type, effective data analysis is essential. Data we require are:\n",
    "1.\tProperty rate of different location (rent / purchase)\n",
    "2.\tDemography of different location\n",
    "3.\tRestaurants and their types in different locations\n",
    "4.\tMenu or Cuisine type served by competitors or restaurants\n",
    "Etc.\n"
   ]
  },
  {
   "cell_type": "markdown",
   "metadata": {},
   "source": [
    "<h3> Collection of Data:</h3>"
   ]
  },
  {
   "cell_type": "markdown",
   "metadata": {},
   "source": [
    "1.\tOpen Government Data (OGD) Platform India (Digital India Initiative) ( All India Pin code directory)\n",
    " https://data.gov.in/resources/all-india-pincode-directory-contact-details-along-latitude-and-longitude\n",
    "\n",
    "2.\tMunicipal Corporation of Greater Mumbai (Mumbai ward distribution data)\n",
    "http://dm.mcgm.gov.in/home\n",
    "\n",
    "3.\tResearch of property rate from different Property websites (Moneycontrol.com, 99acres.com, MagicBricks.com, Housing.com ) and different realtors to collect the data manually\n",
    "\n",
    "4.\tFoursquare API (Restaurants details of South Mumbai)\n",
    "https://developer.foursquare.com/\n",
    "\n",
    "5.\tGeoJSON (for representing simple geographical features)\n",
    "\n",
    "6. Administrative divisions of Mumbai - Wikipedia (For Population of South Mumbai)\n",
    "https://en.wikipedia.org/wiki/Administrative_divisions_of_Mumbai"
   ]
  },
  {
   "cell_type": "markdown",
   "metadata": {},
   "source": [
    "<h2> III. Analysis of Data & Conclusion: </h2>"
   ]
  },
  {
   "cell_type": "markdown",
   "metadata": {},
   "source": [
    "1.\tAnalysis of South Mumbai Property prices\n",
    "2.\tAnalysis of Demography of South Mumbai \n",
    "3.\tCheck which city part  has which restaurant type as the most popular  \n",
    "4.\tFinding Untapped or saturated restaurant market of South Mumbai\n",
    "Etc..\n",
    "\n",
    "In conclusion, this project is mainly focuses to help the restaurateurs, franchise owners as well as small businessmen looking to update with the current market trends or open a profitable restaurant in South Mumbai.\n"
   ]
  },
  {
   "cell_type": "code",
   "execution_count": null,
   "metadata": {},
   "outputs": [],
   "source": []
  }
 ],
 "metadata": {
  "kernelspec": {
   "display_name": "Python 3",
   "language": "python",
   "name": "python3"
  },
  "language_info": {
   "codemirror_mode": {
    "name": "ipython",
    "version": 3
   },
   "file_extension": ".py",
   "mimetype": "text/x-python",
   "name": "python",
   "nbconvert_exporter": "python",
   "pygments_lexer": "ipython3",
   "version": "3.6.6"
  }
 },
 "nbformat": 4,
 "nbformat_minor": 2
}
